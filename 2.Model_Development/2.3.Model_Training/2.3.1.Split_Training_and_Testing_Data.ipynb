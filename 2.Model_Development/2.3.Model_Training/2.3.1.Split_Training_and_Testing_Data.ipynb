{
 "cells": [
  {
   "cell_type": "markdown",
   "metadata": {},
   "source": [
    "[Home](../../README.md)\n",
    "\n",
    "### Model Training\n",
    "\n",
    "We will take the real world data set and split it into two. The training set will be used for training the model and the testing set will be used to test the model."
   ]
  },
  {
   "cell_type": "markdown",
   "metadata": {},
   "source": [
    "#### Step 1\n",
    "\n",
    "Load the required dependencies:"
   ]
  },
  {
   "cell_type": "code",
   "execution_count": 1,
   "metadata": {},
   "outputs": [],
   "source": [
    "# Import frameworks\n",
    "import pandas as pd\n",
    "from sklearn.model_selection import train_test_split"
   ]
  },
  {
   "cell_type": "markdown",
   "metadata": {},
   "source": [
    "####  Step 2\n",
    "- Open the [CSV](3.course_specifications_data.csv) file with [Pandas](https://pandas.pydata.org/)\n",
    "- Split the data set into a training and testing data set that will be saved as separate CSV files for easy use."
   ]
  },
  {
   "cell_type": "code",
   "execution_count": 2,
   "metadata": {},
   "outputs": [],
   "source": [
    "# Create a data frame from the csv file\n",
    "data = pd.read_csv('2.3.1.model_ready_data.csv')\n",
    "\n",
    "# Split the data into training and testing data\n",
    "training_data, testing_data = train_test_split(data, test_size=0.25)\n",
    "\n",
    "# Save the training and testing data to csv files\n",
    "training_data.to_csv('2.3.2.training_data.csv', index=False)\n",
    "testing_data.to_csv('../2.4.Model_Testing_and_Validation/2.4.1.testing_data.csv', index=False)"
   ]
  }
 ],
 "metadata": {
  "kernelspec": {
   "display_name": "Python 3",
   "language": "python",
   "name": "python3"
  },
  "language_info": {
   "codemirror_mode": {
    "name": "ipython",
    "version": 3
   },
   "file_extension": ".py",
   "mimetype": "text/x-python",
   "name": "python",
   "nbconvert_exporter": "python",
   "pygments_lexer": "ipython3",
   "version": "3.12.1"
  }
 },
 "nbformat": 4,
 "nbformat_minor": 2
}
