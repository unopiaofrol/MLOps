{
 "cells": [
  {
   "cell_type": "markdown",
   "metadata": {},
   "source": [
    "[Home](../../README.md)\n",
    "\n",
    "### Model Evaluation\n",
    "\n",
    "This is a demonstration of evaluating a model."
   ]
  },
  {
   "cell_type": "markdown",
   "metadata": {},
   "source": [
    "#### Step 1\n",
    "\n",
    "Load the required dependencies.\n"
   ]
  },
  {
   "cell_type": "code",
   "execution_count": 1,
   "metadata": {},
   "outputs": [],
   "source": [
    "# Import frameworks\n",
    "import numpy as np\n",
    "import pandas as pd\n",
    "import matplotlib.pyplot as plt\n",
    "plt.style.use('../../style_Matplotlib_charts.mplstyle')\n",
    "from sklearn.linear_model import LinearRegression\n",
    "import pickle"
   ]
  },
  {
   "cell_type": "markdown",
   "metadata": {},
   "source": [
    "####  Step 2\n",
    "\n",
    "Load the model for testing"
   ]
  },
  {
   "cell_type": "code",
   "execution_count": 2,
   "metadata": {},
   "outputs": [],
   "source": [
    "filename = 'my_saved_model_v1.sav'\n",
    "model_A = pickle.load(open(filename, 'rb'))\n"
   ]
  },
  {
   "cell_type": "markdown",
   "metadata": {},
   "source": [
    "(Optional) Load a second model if you want to do comparative testing"
   ]
  },
  {
   "cell_type": "code",
   "execution_count": 3,
   "metadata": {},
   "outputs": [],
   "source": [
    "filename = 'my_saved_model_v1.sav'\n",
    "model_B = pickle.load(open(filename, 'rb'))"
   ]
  },
  {
   "cell_type": "markdown",
   "metadata": {},
   "source": [
    "####  Step 3\n",
    "Open and parse the test data CSV file and store the data as variable array data objects."
   ]
  },
  {
   "cell_type": "code",
   "execution_count": 4,
   "metadata": {},
   "outputs": [],
   "source": [
    "x_col = 'BMI'\n",
    "testing_data = pd.read_csv('2.4.1.testing_data.csv')\n",
    "x_test = np.array(testing_data[x_col]).reshape(-1,1)\n",
    "y_test = np.array(testing_data['Target'])"
   ]
  },
  {
   "cell_type": "markdown",
   "metadata": {},
   "source": [
    "#### Step 5\n",
    "\n",
    "Plot the test data features, targets and linear regression model to visually evaluate the model."
   ]
  },
  {
   "cell_type": "code",
   "execution_count": 5,
   "metadata": {},
   "outputs": [
    {
     "data": {
      "image/png": "[encoded data removed]",
      "text/plain": [
       "<Figure size 640x480 with 1 Axes>"
      ]
     },
     "metadata": {},
     "output_type": "display_data"
    }
   ],
   "source": [
    "y_pred = model_A.predict(x_test)\n",
    "plt.scatter(x_test, y_pred)\n",
    "plt.scatter(x_test, y_test, marker='x', c='r')\n",
    "plt.title(\"NESA Course Specifications Data\")\n",
    "plt.ylabel(f'Testing {x_col}')\n",
    "plt.xlabel(f'Testing Target')\n",
    "plt.show()"
   ]
  },
  {
   "cell_type": "markdown",
   "metadata": {},
   "source": [
    "#### Step 6\n",
    "\n",
    "Use the 'score' method of the `LinearRegression` class to return a score based evaluation of the models accuracy or performance."
   ]
  },
  {
   "cell_type": "code",
   "execution_count": 6,
   "metadata": {},
   "outputs": [
    {
     "name": "stdout",
     "output_type": "stream",
     "text": [
      "Training data score: 0.1108687405006814\n"
     ]
    }
   ],
   "source": [
    "test_score = model_A.score(x_test, y_test)\n",
    "print(f'Training data score: {test_score}')"
   ]
  },
  {
   "cell_type": "markdown",
   "metadata": {},
   "source": [
    "#### Step 7\n",
    "\n",
    "Manually calculate and evaluate the 'loss' and 'cost' of the model using the test data."
   ]
  },
  {
   "cell_type": "code",
   "execution_count": 7,
   "metadata": {},
   "outputs": [
    {
     "name": "stdout",
     "output_type": "stream",
     "text": [
      "     DoB    DoT  Predicted result        Loss\n",
      "0   25.7  155.0        146.032921     80.4609\n",
      "1   33.0   55.0        218.128617  26611.3969\n",
      "2   25.3  190.0        142.082472   2296.3264\n",
      "3   29.5  198.0        183.562187    208.5136\n",
      "4   20.8   72.0         97.639920    657.4096\n",
      "5   27.2  174.0        160.847105    172.9225\n",
      "6   26.3  113.0        151.958595   1517.8816\n",
      "7   22.0  200.0        109.491267   8192.0601\n",
      "8   27.7  191.0        165.785167    635.5441\n",
      "9   32.0  215.0        208.252494     45.5625\n",
      "10  18.6  101.0         75.912450    629.5081\n",
      "11  21.0  158.0         99.615145   3408.2244\n",
      "12  26.8   59.0        156.896656   9584.4100\n",
      "13  32.1  281.0        209.240106   5149.4976\n",
      "14  23.0  146.0        119.367390    709.1569\n",
      "15  27.9  268.0        167.760391  10048.0576\n",
      "16  22.1   69.0        110.478880   1720.5904\n",
      "17  35.0  140.0        237.880862   9580.4944\n",
      "18  32.7  121.0        215.165780   8867.9889\n",
      "19  23.3  214.0        122.330227   8403.3889\n",
      "20  30.0  310.0        188.500249  14762.2500\n",
      "21  22.1   72.0        110.478880   1480.7104\n",
      "22  35.0  128.0        237.880862  12073.6144\n",
      "23  31.2  164.0        200.351596   1321.3225\n",
      "24  25.3  206.0        142.082472   4085.7664\n",
      "25  20.2   79.0         91.714247    161.5441\n",
      "26  20.1   55.0         90.726634   1276.6329\n",
      "27  31.4  142.0        202.326821   3639.7089\n",
      "28  24.2  144.0        131.218737    163.3284\n",
      "29  18.8   85.0         77.887675     50.5521\n",
      "30  30.6  202.0        194.425922     57.3049\n",
      "31  30.4  195.0        192.450698      6.5025\n",
      "32  20.2   59.0         91.714247   1069.9441\n",
      "33  32.6   78.0        214.178168  18544.9924\n",
      "34  26.5   49.0        153.933819  11010.3049\n",
      "35  33.2  275.0        220.103841   3014.0100\n",
      "36  29.3  296.0        181.586963  13089.6481\n",
      "37  24.4  131.0        133.193962      4.7961\n",
      "38  25.1  216.0        140.107248   5759.2921\n",
      "39  20.4   83.0         93.689471    114.2761\n",
      "40  24.7  168.0        136.156799   1013.7856\n",
      "41  31.9   91.0        207.264882  13516.3876\n",
      "42  18.8   51.0         77.887675    723.0721\n",
      "43  25.2  292.0        141.094860  22773.8281\n",
      "44  28.8  283.0        176.648902  11310.3225\n",
      "45  27.5  143.0        163.809942    433.0561\n",
      "46  28.6  121.0        174.673677   2880.4689\n",
      "47  33.8  257.0        226.029515    959.1409\n",
      "48  35.4  275.0        241.831311   1100.2489\n",
      "49  22.8  206.0        117.392166   7851.7321\n",
      "50  30.3  166.0        191.463086    648.2116\n",
      "51  30.5  129.0        193.438310   4152.5136\n",
      "52  22.1   74.0        110.478880   1330.7904\n",
      "53  26.0  198.0        148.995758   2401.0000\n",
      "54  30.1  147.0        189.487861   1805.4001\n",
      "55  25.4   25.0        143.070084  13940.5249\n",
      "56  26.8  191.0        156.896656   1162.8100\n",
      "57  31.4  192.0        202.326821    106.7089\n",
      "58  32.0  132.0        208.252494   5814.0625\n",
      "The cost or average loss of this model is 2407.8810296610172\n"
     ]
    }
   ],
   "source": [
    "table = pd.DataFrame({\n",
    "    testing_data.columns[0]: x_test.flatten(),  # Flatten x for easy display\n",
    "    testing_data.columns[1]: y_test,\n",
    "    'Predicted result':model_A.predict(x_test),\n",
    "    'Loss' : abs(model_A.predict(x_test).round(2) - y_test)**2\n",
    "})\n",
    "print(table)\n",
    "cost = 1 / (2 * table.shape[0]) * table['Loss'].sum()\n",
    "\n",
    "print(f\"The cost or average loss of this model is {cost}\")"
   ]
  },
  {
   "cell_type": "markdown",
   "metadata": {},
   "source": [
    "You may want to do some manual predictions to understand your model."
   ]
  },
  {
   "cell_type": "code",
   "execution_count": 8,
   "metadata": {},
   "outputs": [
    {
     "name": "stdout",
     "output_type": "stream",
     "text": [
      "[-106.79581943]\n",
      "[-97.90730901]\n"
     ]
    }
   ],
   "source": [
    "print(model_A.predict([[0.1]]))\n",
    "print(model_A.predict([[1]]))"
   ]
  },
  {
   "cell_type": "markdown",
   "metadata": {},
   "source": [
    "#### Step 8\n",
    "\n",
    "Evaluate the X axis intercept and gradient or coefficient of your model by using the getter methods to return the intercept and coefficient from my_model() object."
   ]
  },
  {
   "cell_type": "code",
   "execution_count": 9,
   "metadata": {},
   "outputs": [
    {
     "name": "stdout",
     "output_type": "stream",
     "text": [
      "X Axis intercept: -107.78343169959655\n",
      "Coefficient: [9.87612268]\n"
     ]
    }
   ],
   "source": [
    "print(f'X Axis intercept: {model_A.intercept_}')\n",
    "print(f'Coefficient: {model_A.coef_}')"
   ]
  },
  {
   "cell_type": "markdown",
   "metadata": {},
   "source": [
    "#### Step 9. Multiple Variable Linear Regression\n",
    "\n",
    "You should be able to understand the code snippets with less guidelines."
   ]
  },
  {
   "cell_type": "code",
   "execution_count": 10,
   "metadata": {},
   "outputs": [],
   "source": [
    "filename = 'my_saved_model_v2.sav'\n",
    "model_C = pickle.load(open(filename, 'rb'))"
   ]
  },
  {
   "cell_type": "code",
   "execution_count": 11,
   "metadata": {},
   "outputs": [],
   "source": [
    "mx_col = ['BMI','BP','FDR']\n",
    "testing_data = pd.read_csv('2.4.1.testing_data.csv')\n",
    "mx_test = np.array(testing_data[mx_col])\n",
    "my_test = np.array(testing_data['Target'])"
   ]
  },
  {
   "cell_type": "code",
   "execution_count": 12,
   "metadata": {},
   "outputs": [
    {
     "data": {
      "image/png": "[encoded data removed]",
      "text/plain": [
       "<Figure size 1200x300 with 3 Axes>"
      ]
     },
     "metadata": {},
     "output_type": "display_data"
    }
   ],
   "source": [
    "my_pred = model_C.predict(mx_test)\n",
    "\n",
    "# plot predictions and targets vs original features    \n",
    "fig,ax=plt.subplots(1,len(mx_col),figsize=(12,3),sharey=True)\n",
    "for i in range(len(ax)):\n",
    "    ax[i].scatter(mx_test[:,i],my_test, label = 'target')\n",
    "    ax[i].set_xlabel(mx_col[i])\n",
    "    ax[i].scatter(mx_test[:,i],my_pred,color=\"orange\", label = 'predict')\n",
    "    ax[i].set_ylabel(\"Target\"); ax[i].legend();\n",
    "fig.suptitle(\"Diabetes Disease Progress\")\n",
    "plt.show()"
   ]
  },
  {
   "cell_type": "code",
   "execution_count": 13,
   "metadata": {},
   "outputs": [
    {
     "name": "stdout",
     "output_type": "stream",
     "text": [
      "Training data score: 0.2775939265165436\n"
     ]
    }
   ],
   "source": [
    "test_score = model_C.score(mx_test, my_test)\n",
    "print(f'Training data score: {test_score}')"
   ]
  },
  {
   "cell_type": "code",
   "execution_count": 14,
   "metadata": {},
   "outputs": [
    {
     "name": "stdout",
     "output_type": "stream",
     "text": [
      "[-110.75107011]\n",
      "[-68.4949494]\n"
     ]
    }
   ],
   "source": [
    "print(model_C.predict([[0.1,0.1,0.1]]))\n",
    "print(model_C.predict([[1,0.5,1]]))"
   ]
  },
  {
   "cell_type": "code",
   "execution_count": 15,
   "metadata": {},
   "outputs": [
    {
     "name": "stdout",
     "output_type": "stream",
     "text": [
      "The cost or average loss of this model is 1956.3373881355935\n",
      "     BMI        BP  FDR  Target  Predicted result        Loss\n",
      "0   25.7  0.517647  1.0   155.0        151.624333     11.4244\n",
      "1   33.0  0.211765  0.0    55.0        186.691067  17342.2561\n",
      "2   25.3  0.352941  2.0   190.0        149.184460   1666.2724\n",
      "3   29.5  0.580353  1.0   198.0        189.130289     78.6769\n",
      "4   20.8  0.364706  2.0    72.0        109.991029   1443.2401\n",
      "5   27.2  0.294118  2.0   174.0        162.463725    133.1716\n",
      "6   26.3  0.376471  0.0   113.0        137.270810    589.0329\n",
      "7   22.0  0.458824  2.0   200.0        126.345985   5424.3225\n",
      "8   27.7  0.517647  2.0   191.0        180.466137    110.8809\n",
      "9   32.0  0.647059  1.0   215.0        215.350198      0.1225\n",
      "10  18.6  0.494118  2.0   101.0         98.335968      7.0756\n",
      "11  21.0  0.439176  0.0   158.0         94.074833   4087.0449\n",
      "12  26.8  0.376471  1.0    59.0        152.810097   8800.3161\n",
      "13  32.1  0.647059  2.0   281.0        227.342148   2879.3956\n",
      "14  23.0  0.466706  1.0   146.0        124.587673    458.3881\n",
      "15  27.9  0.482353  1.0   268.0        168.992337   9802.9801\n",
      "16  22.1  0.317647  1.0    69.0        107.558290   1486.8736\n",
      "17  35.0  0.286235  2.0   140.0        231.158352   8310.1456\n",
      "18  32.7  0.447059  2.0   121.0        220.523151   9904.2304\n",
      "19  23.3  0.352941  1.0   214.0        120.342656   8772.1956\n",
      "20  30.0  0.352941  2.0   310.0        190.865679  14191.9569\n",
      "21  22.1  0.352941  2.0    72.0        120.805759   2382.4161\n",
      "22  35.0  0.400000  0.0   128.0        215.853641   7717.6225\n",
      "23  31.2  0.282353  1.0   164.0        186.117869    489.2944\n",
      "24  25.3  0.341176  2.0   206.0        148.470343   3309.7009\n",
      "25  20.2  0.470588  2.0    79.0        111.097083   1030.4100\n",
      "26  20.1  0.094118  1.0    55.0         76.253362    451.5625\n",
      "27  31.4  0.376471  2.0   142.0        204.709597   3932.5441\n",
      "28  24.2  0.447059  2.0   144.0        145.142224      1.2996\n",
      "29  18.8  0.270588  2.0    85.0         86.541397      2.3716\n",
      "30  30.6  0.564706  1.0   202.0        197.935691     16.4836\n",
      "31  30.4  0.764706  2.0   195.0        219.407141    595.8481\n",
      "32  20.2  0.305882  2.0    59.0        101.099433   1772.4100\n",
      "33  32.6  0.258824  0.0    78.0        186.000200  11664.0000\n",
      "34  26.5  0.494118  0.0    49.0        146.185657   9445.8961\n",
      "35  33.2  0.325529  1.0   275.0        206.475371   4694.9904\n",
      "36  29.3  0.811765  2.0   296.0        212.508434   6970.5801\n",
      "37  24.4  0.211765  1.0   131.0        121.528421     89.6809\n",
      "38  25.1  0.917647  2.0   216.0        181.688448   1177.1761\n",
      "39  20.4  0.505882  0.0    83.0         92.802874     96.0400\n",
      "40  24.7  0.329412  3.0   168.0        153.540334    209.0916\n",
      "41  31.9  0.274471  0.0    91.0        180.742136   8053.2676\n",
      "42  18.8  0.329412  2.0    51.0         90.111987   1529.5921\n",
      "43  25.2  0.564706  1.0   292.0        150.046632  20149.8025\n",
      "44  28.8  0.682353  1.0   283.0        189.113850   8815.3321\n",
      "45  27.5  0.611765  0.0   143.0        162.195180    368.6400\n",
      "46  28.6  0.494118  1.0   121.0        175.914295   3015.1081\n",
      "47  33.8  0.803882  2.0   257.0        251.937525     25.6036\n",
      "48  35.4  0.447059  0.0   275.0        222.257450   2781.5076\n",
      "49  22.8  0.423529  0.0   206.0        109.088076   9391.5481\n",
      "50  30.3  0.635294  0.0   166.0        188.454780    504.0025\n",
      "51  30.5  0.400000  2.0   129.0        198.156322   4783.1056\n",
      "52  22.1  0.129412  0.0    74.0         85.027288    121.6609\n",
      "53  26.0  0.360824  1.0   198.0        144.765645   2833.4329\n",
      "54  30.1  0.423529  1.0   147.0        184.932105   1438.6849\n",
      "55  25.4  0.470588  0.0    25.0        135.002242  12100.0000\n",
      "56  26.8  0.623529  2.0   191.0        178.911687    146.1681\n",
      "57  31.4  0.239176  1.0   192.0        185.270726     45.2929\n",
      "58  32.0  0.388235  0.0   132.0        188.534490   3195.6409\n"
     ]
    }
   ],
   "source": [
    "data = {col: mx_test[:, i] for i, col in enumerate(mx_col)}\n",
    "data['Target'] = my_test\n",
    "data['Predicted result'] = model_C.predict(mx_test)\n",
    "data['Loss'] = abs(model_C.predict(mx_test).round(2) - my_test)**2\n",
    "table = pd.DataFrame(data)\n",
    "\n",
    "cost = 1 / (2 * table.shape[0]) * table['Loss'].sum()\n",
    "print(f\"The cost or average loss of this model is {cost}\")\n",
    "\n",
    "print(table)"
   ]
  },
  {
   "cell_type": "code",
   "execution_count": 16,
   "metadata": {},
   "outputs": [
    {
     "name": "stdout",
     "output_type": "stream",
     "text": [
      "X Axis intercept: -118.81841781390196\n",
      "Coefficient: [ 8.86834434 60.70001725 11.10511545]\n"
     ]
    }
   ],
   "source": [
    "print(f'X Axis intercept: {model_C.intercept_}')\n",
    "print(f'Coefficient: {model_C.coef_}')"
   ]
  },
  {
   "cell_type": "markdown",
   "metadata": {},
   "source": [
    "#### Step 10. Polynomial Linear Regression\n",
    "\n",
    "You should be able to understand the code snippets with less guidelines."
   ]
  },
  {
   "cell_type": "code",
   "execution_count": 17,
   "metadata": {},
   "outputs": [
    {
     "ename": "FileNotFoundError",
     "evalue": "[Errno 2] No such file or directory: 'my_saved_poly_v3.pkl'",
     "output_type": "error",
     "traceback": [
      "\u001b[31m---------------------------------------------------------------------------\u001b[39m",
      "\u001b[31mFileNotFoundError\u001b[39m                         Traceback (most recent call last)",
      "\u001b[36mCell\u001b[39m\u001b[36m \u001b[39m\u001b[32mIn[17]\u001b[39m\u001b[32m, line 5\u001b[39m\n\u001b[32m      2\u001b[39m poly_filename = \u001b[33m'\u001b[39m\u001b[33mmy_saved_poly_v3.pkl\u001b[39m\u001b[33m'\u001b[39m\n\u001b[32m      4\u001b[39m model_D = pickle.load(\u001b[38;5;28mopen\u001b[39m(model_filename, \u001b[33m'\u001b[39m\u001b[33mrb\u001b[39m\u001b[33m'\u001b[39m))\n\u001b[32m----> \u001b[39m\u001b[32m5\u001b[39m poly = pickle.load(\u001b[38;5;28;43mopen\u001b[39;49m\u001b[43m(\u001b[49m\u001b[43mpoly_filename\u001b[49m\u001b[43m,\u001b[49m\u001b[43m \u001b[49m\u001b[33;43m'\u001b[39;49m\u001b[33;43mrb\u001b[39;49m\u001b[33;43m'\u001b[39;49m\u001b[43m)\u001b[49m)\n",
      "\u001b[36mFile \u001b[39m\u001b[32m~/.local/lib/python3.12/site-packages/IPython/core/interactiveshell.py:326\u001b[39m, in \u001b[36m_modified_open\u001b[39m\u001b[34m(file, *args, **kwargs)\u001b[39m\n\u001b[32m    319\u001b[39m \u001b[38;5;28;01mif\u001b[39;00m file \u001b[38;5;129;01min\u001b[39;00m {\u001b[32m0\u001b[39m, \u001b[32m1\u001b[39m, \u001b[32m2\u001b[39m}:\n\u001b[32m    320\u001b[39m     \u001b[38;5;28;01mraise\u001b[39;00m \u001b[38;5;167;01mValueError\u001b[39;00m(\n\u001b[32m    321\u001b[39m         \u001b[33mf\u001b[39m\u001b[33m\"\u001b[39m\u001b[33mIPython won\u001b[39m\u001b[33m'\u001b[39m\u001b[33mt let you open fd=\u001b[39m\u001b[38;5;132;01m{\u001b[39;00mfile\u001b[38;5;132;01m}\u001b[39;00m\u001b[33m by default \u001b[39m\u001b[33m\"\u001b[39m\n\u001b[32m    322\u001b[39m         \u001b[33m\"\u001b[39m\u001b[33mas it is likely to crash IPython. If you know what you are doing, \u001b[39m\u001b[33m\"\u001b[39m\n\u001b[32m    323\u001b[39m         \u001b[33m\"\u001b[39m\u001b[33myou can use builtins\u001b[39m\u001b[33m'\u001b[39m\u001b[33m open.\u001b[39m\u001b[33m\"\u001b[39m\n\u001b[32m    324\u001b[39m     )\n\u001b[32m--> \u001b[39m\u001b[32m326\u001b[39m \u001b[38;5;28;01mreturn\u001b[39;00m \u001b[43mio_open\u001b[49m\u001b[43m(\u001b[49m\u001b[43mfile\u001b[49m\u001b[43m,\u001b[49m\u001b[43m \u001b[49m\u001b[43m*\u001b[49m\u001b[43margs\u001b[49m\u001b[43m,\u001b[49m\u001b[43m \u001b[49m\u001b[43m*\u001b[49m\u001b[43m*\u001b[49m\u001b[43mkwargs\u001b[49m\u001b[43m)\u001b[49m\n",
      "\u001b[31mFileNotFoundError\u001b[39m: [Errno 2] No such file or directory: 'my_saved_poly_v3.pkl'"
     ]
    }
   ],
   "source": [
    "model_filename = 'my_saved_model_v3.sav'\n",
    "poly_filename = 'my_saved_poly_v3.pkl'\n",
    "\n",
    "model_D = pickle.load(open(model_filename, 'rb'))\n",
    "poly = pickle.load(open(poly_filename, 'rb'))"
   ]
  },
  {
   "cell_type": "code",
   "execution_count": null,
   "metadata": {},
   "outputs": [],
   "source": [
    "mx_col = ['BMI']\n",
    "testing_data = pd.read_csv('2.4.1.testing_data.csv')\n",
    "mx_test = np.array(testing_data[mx_col])\n",
    "my_test = np.array(testing_data['Target'])"
   ]
  },
  {
   "cell_type": "code",
   "execution_count": null,
   "metadata": {},
   "outputs": [],
   "source": [
    "poly_features = poly.fit_transform(mx_test)"
   ]
  },
  {
   "cell_type": "code",
   "execution_count": null,
   "metadata": {},
   "outputs": [],
   "source": [
    "y_pred = model_D.predict(poly_features)\n",
    "\n",
    "plt.scatter(x_test, y_pred)\n",
    "plt.scatter(x_test, y_test, marker='x', c='r')\n",
    "plt.title(\"NESA Course Specifications Data\")\n",
    "plt.ylabel(f'Testing {x_col}')\n",
    "plt.xlabel(f'Testing Target')\n",
    "plt.show()"
   ]
  },
  {
   "cell_type": "code",
   "execution_count": null,
   "metadata": {},
   "outputs": [],
   "source": [
    "test_score = model_D.score(poly_features, my_test)\n",
    "print(f'Training data score: {test_score}')"
   ]
  },
  {
   "cell_type": "code",
   "execution_count": null,
   "metadata": {},
   "outputs": [],
   "source": [
    "new_poly_feature = poly.fit_transform([[0.1]])\n",
    "print(model_D.predict(new_poly_feature))"
   ]
  },
  {
   "cell_type": "code",
   "execution_count": null,
   "metadata": {},
   "outputs": [],
   "source": [
    "data = {col: mx_test[:, i] for i, col in enumerate(mx_col)}\n",
    "data['Target'] = my_test\n",
    "data['Predicted result'] = model_D.predict(poly_features)\n",
    "data['Loss'] = abs(model_D.predict(poly_features).round(2) - my_test)**2\n",
    "table = pd.DataFrame(data)\n",
    "\n",
    "cost = 1 / (2 * table.shape[0]) * table['Loss'].sum()\n",
    "print(f\"The cost or average loss of this model is {cost}\")\n",
    "\n",
    "print(table)"
   ]
  },
  {
   "cell_type": "markdown",
   "metadata": {},
   "source": [
    "#### Step 11\n",
    "\n",
    "When your model is ready for operations, move it to the [3.Operations\\3.1.Deploy_Model](\\3.Operations\\3.1.Deploy_Model) folder."
   ]
  }
 ],
 "metadata": {
  "kernelspec": {
   "display_name": "Python 3",
   "language": "python",
   "name": "python3"
  },
  "language_info": {
   "codemirror_mode": {
    "name": "ipython",
    "version": 3
   },
   "file_extension": ".py",
   "mimetype": "text/x-python",
   "name": "python",
   "nbconvert_exporter": "python",
   "pygments_lexer": "ipython3",
   "version": "3.12.1"
  }
 },
 "nbformat": 4,
 "nbformat_minor": 2
}
